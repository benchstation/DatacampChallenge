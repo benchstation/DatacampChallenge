{
 "cells": [
  {
   "cell_type": "markdown",
   "metadata": {},
   "source": [
    "# Desafio DataCamp\n",
    "## Predicting Industrial Machine Downtime [Level 3]"
   ]
  },
  {
   "cell_type": "markdown",
   "metadata": {},
   "source": [
    "Link do desafio: https://app.datacamp.com/learn/competitions/industrial-machine-level-3"
   ]
  },
  {
   "cell_type": "markdown",
   "metadata": {},
   "source": [
    "## Enunciado\n",
    "---"
   ]
  },
  {
   "cell_type": "markdown",
   "metadata": {},
   "source": [
    "### 📖 Cenário\n",
    "Você trabalha para um fabricante de componentes metálicos de alta precisão utilizados nos setores aeroespacial, automotivo e de dispositivos médicos. Sua empresa opera **três máquinas diferentes** no chão de fábrica, cada uma produzindo componentes de tamanhos variados. Minimizar o tempo de inatividade dessas máquinas é essencial para cumprir os prazos de produção.\n",
    "\n",
    "Sua equipe quer adotar uma abordagem orientada por dados para prever o tempo de inatividade das máquinas, permitindo o planejamento de manutenção proativa, em vez de reagir somente após falhas. Para isso, sua empresa tem coletado dados operacionais ao longo de um ano, indicando se as máquinas estavam ou não em funcionamento em momentos específicos.\n",
    "\n",
    "Neste terceiro nível, você irá desenvolver um modelo preditivo que pode ser combinado com dados operacionais em tempo real para identificar possíveis falhas nas máquinas.\n",
    "\n",
    "### **💾 Os Dados**\n",
    "\n",
    "A empresa armazenou os dados operacionais das máquinas em uma única tabela, disponível no arquivo `'data/machine_downtime.csv'`.\n",
    "\n",
    "**Cada linha na tabela representa os dados operacionais de uma única máquina em um determinado dia:**\n",
    "\n",
    "- **`\"Date\"`** - Data em que a leitura foi realizada.\n",
    "- **`\"Machine_ID\"`** - Identificador único da máquina em questão.\n",
    "- **`\"Assembly_Line_No\"`** - Identificador único da linha de montagem onde a máquina está localizada.\n",
    "- **`\"Hydraulic_Pressure(bar)\"`**, **`\"Coolant_Pressure(bar)\"`**, **`\"Air_System_Pressure(bar)\"`** - Medições de pressão (em bar) em diferentes pontos da máquina.\n",
    "- **`\"Coolant_Temperature\"`**, **`\"Hydraulic_Oil_Temperature\"`**, **`\"Spindle_Bearing_Temperature\"`** - Medições de temperatura (em Celsius) em diferentes partes da máquina.\n",
    "- **`\"Spindle_Vibration\"`**, **`\"Tool_Vibration\"`**, **`\"Spindle_Speed(RPM)\"`** - Medições de vibração (em micrômetros) e velocidade de rotação da ferramenta e do eixo principal.\n",
    "- **`\"Voltage(volts)\"`** - Tensão elétrica fornecida à máquina.\n",
    "- **`\"Torque(Nm)\"`** - Torque gerado pela máquina.\n",
    "- **`\"Cutting(KN)\"`** - Força de corte da ferramenta.\n",
    "- **`\"Downtime\"`** - Indicador de se a máquina estava ou não inativa no dia em questão."
   ]
  },
  {
   "cell_type": "markdown",
   "metadata": {},
   "source": [
    "### 💪 Desafio\n",
    "\n",
    "Crie um relatório que aborde o seguinte:\n",
    "\n",
    "- Treine e avalie um modelo preditivo para prever falhas nas máquinas.\n",
    "- Quais características do conjunto de dados são os preditores mais fortes para a falha da máquina?\n",
    "- Suas previsões são mais precisas se você modelar cada máquina separadamente?"
   ]
  },
  {
   "cell_type": "markdown",
   "metadata": {},
   "source": [
    "## Inicialização\n",
    "---"
   ]
  },
  {
   "cell_type": "markdown",
   "metadata": {},
   "source": [
    "Comando para instalar as bibliotecas: `pip install pandas numpy scikit-learn matplotlib seaborn`"
   ]
  },
  {
   "cell_type": "code",
   "execution_count": 1,
   "metadata": {},
   "outputs": [],
   "source": [
    "import pandas as pd\n",
    "import numpy as np\n",
    "from sklearn.model_selection import train_test_split, cross_val_score\n",
    "from sklearn.ensemble import RandomForestClassifier\n",
    "from sklearn.preprocessing import StandardScaler, LabelEncoder\n",
    "from sklearn.metrics import classification_report, confusion_matrix, accuracy_score\n",
    "import matplotlib.pyplot as plt\n",
    "import seaborn as sns"
   ]
  },
  {
   "cell_type": "markdown",
   "metadata": {},
   "source": [
    "**Observação**: Para rodar os blocos de código, é necessário ter todas essas bibliotecas instaladas."
   ]
  },
  {
   "cell_type": "markdown",
   "metadata": {},
   "source": [
    "## Leitura\n",
    "---"
   ]
  },
  {
   "cell_type": "code",
   "execution_count": 2,
   "metadata": {},
   "outputs": [
    {
     "name": "stdout",
     "output_type": "stream",
     "text": [
      "<class 'pandas.core.frame.DataFrame'>\n",
      "RangeIndex: 2500 entries, 0 to 2499\n",
      "Data columns (total 16 columns):\n",
      " #   Column                       Non-Null Count  Dtype  \n",
      "---  ------                       --------------  -----  \n",
      " 0   Date                         2500 non-null   object \n",
      " 1   Machine_ID                   2500 non-null   object \n",
      " 2   Assembly_Line_No             2500 non-null   object \n",
      " 3   Hydraulic_Pressure(bar)      2490 non-null   float64\n",
      " 4   Coolant_Pressure(bar)        2481 non-null   float64\n",
      " 5   Air_System_Pressure(bar)     2483 non-null   float64\n",
      " 6   Coolant_Temperature          2488 non-null   float64\n",
      " 7   Hydraulic_Oil_Temperature    2484 non-null   float64\n",
      " 8   Spindle_Bearing_Temperature  2493 non-null   float64\n",
      " 9   Spindle_Vibration            2489 non-null   float64\n",
      " 10  Tool_Vibration               2489 non-null   float64\n",
      " 11  Spindle_Speed(RPM)           2494 non-null   float64\n",
      " 12  Voltage(volts)               2494 non-null   float64\n",
      " 13  Torque(Nm)                   2479 non-null   float64\n",
      " 14  Cutting(kN)                  2493 non-null   float64\n",
      " 15  Downtime                     2500 non-null   object \n",
      "dtypes: float64(12), object(4)\n",
      "memory usage: 312.6+ KB\n",
      "None\n",
      "         Date            Machine_ID Assembly_Line_No  Hydraulic_Pressure(bar)  \\\n",
      "0  31-12-2021  Makino-L1-Unit1-2013     Shopfloor-L1                    71.04   \n",
      "1  31-12-2021  Makino-L1-Unit1-2013     Shopfloor-L1                   125.33   \n",
      "2  31-12-2021  Makino-L3-Unit1-2015     Shopfloor-L3                    71.12   \n",
      "3  31-05-2022  Makino-L2-Unit1-2015     Shopfloor-L2                   139.34   \n",
      "4  31-03-2022  Makino-L1-Unit1-2013     Shopfloor-L1                    60.51   \n",
      "\n",
      "   Coolant_Pressure(bar)  Air_System_Pressure(bar)  Coolant_Temperature  \\\n",
      "0               6.933725                  6.284965                 25.6   \n",
      "1               4.936892                  6.196733                 35.3   \n",
      "2               6.839413                  6.655448                 13.1   \n",
      "3               4.574382                  6.560394                 24.4   \n",
      "4               6.893182                  6.141238                  4.1   \n",
      "\n",
      "   Hydraulic_Oil_Temperature  Spindle_Bearing_Temperature  Spindle_Vibration  \\\n",
      "0                       46.0                         33.4              1.291   \n",
      "1                       47.4                         34.6              1.382   \n",
      "2                       40.7                         33.0              1.319   \n",
      "3                       44.2                         40.6              0.618   \n",
      "4                       47.3                         31.4              0.983   \n",
      "\n",
      "   Tool_Vibration  Spindle_Speed(RPM)  Voltage(volts)  Torque(Nm)  \\\n",
      "0          26.492             25892.0           335.0   24.055326   \n",
      "1          25.274             19856.0           368.0   14.202890   \n",
      "2          30.608             19851.0           325.0   24.049267   \n",
      "3          30.791             18461.0           360.0   25.860029   \n",
      "4          25.516             26526.0           354.0   25.515874   \n",
      "\n",
      "   Cutting(kN)         Downtime  \n",
      "0         3.58  Machine_Failure  \n",
      "1         2.68  Machine_Failure  \n",
      "2         3.55  Machine_Failure  \n",
      "3         3.55  Machine_Failure  \n",
      "4         3.55  Machine_Failure  \n"
     ]
    }
   ],
   "source": [
    "data = pd.read_csv('data/machine_downtime.csv')\n",
    "print(data.info()) # Mostra informações gerais sobre o DataFrame (número de linhas, colunas, tipos de dados e valores nulos)\n",
    "print(data.head()) # Exibe as 5 primeiras linhas do DataFrame"
   ]
  },
  {
   "cell_type": "markdown",
   "metadata": {},
   "source": [
    "## Pré-processamento\n",
    "---"
   ]
  },
  {
   "cell_type": "markdown",
   "metadata": {},
   "source": [
    "### Verificar valores ausentes"
   ]
  },
  {
   "cell_type": "code",
   "execution_count": 3,
   "metadata": {},
   "outputs": [
    {
     "name": "stdout",
     "output_type": "stream",
     "text": [
      "Valores ausentes:\n",
      " Date                            0\n",
      "Machine_ID                      0\n",
      "Assembly_Line_No                0\n",
      "Hydraulic_Pressure(bar)        10\n",
      "Coolant_Pressure(bar)          19\n",
      "Air_System_Pressure(bar)       17\n",
      "Coolant_Temperature            12\n",
      "Hydraulic_Oil_Temperature      16\n",
      "Spindle_Bearing_Temperature     7\n",
      "Spindle_Vibration              11\n",
      "Tool_Vibration                 11\n",
      "Spindle_Speed(RPM)              6\n",
      "Voltage(volts)                  6\n",
      "Torque(Nm)                     21\n",
      "Cutting(kN)                     7\n",
      "Downtime                        0\n",
      "dtype: int64\n"
     ]
    }
   ],
   "source": [
    "print(\"Valores ausentes:\\n\", data.isnull().sum())"
   ]
  },
  {
   "cell_type": "markdown",
   "metadata": {},
   "source": [
    "### Preencher valores ausentes\n",
    "- `data.fillna`: Substitui valores ausentes.\n",
    "- Para colunas numéricas, preenche com a média.\n",
    "- `inplace=True`: Altera o DataFrame original."
   ]
  },
  {
   "cell_type": "code",
   "execution_count": 4,
   "metadata": {},
   "outputs": [],
   "source": [
    "data.fillna(data.mean(numeric_only=True), inplace=True)\n"
   ]
  },
  {
   "cell_type": "markdown",
   "metadata": {},
   "source": [
    "### Codificar variáveis categóricas"
   ]
  },
  {
   "cell_type": "markdown",
   "metadata": {},
   "source": [
    "As variáveis categóricas são aquelas que representam categorias ou rótulos em vez de valores numéricos, como:\n",
    "\n",
    "- Exemplo: `['Vermelho', 'Azul', 'Verde']`\n",
    "\n",
    "Muitos algoritmos de Machine Learning não conseguem trabalhar diretamente com esses valores categóricos, pois eles esperam dados numéricos como entrada. \n",
    "\n",
    "Por isso, **é necessário transformar essas categorias em números**. Isso é conhecido como codificação (\"encoding\")."
   ]
  },
  {
   "cell_type": "markdown",
   "metadata": {},
   "source": [
    "- `LabelEncoder`: Converte variáveis categóricas em valores numéricos.\n",
    "- `fit_transform`: Ajusta o codificador aos dados e realiza a transformação.\n",
    "- `label_encoders`: Dicionário para armazenar os codificadores para cada coluna."
   ]
  },
  {
   "cell_type": "code",
   "execution_count": 5,
   "metadata": {},
   "outputs": [],
   "source": [
    "# Inicializar o dicionário de codificadores\n",
    "label_encoders = {}\n",
    "\n",
    "# lista com os nomes das colunas categóricas que precisam ser codificadas\n",
    "categorical_columns = ['Machine_ID', 'Assembly_Line_No'] \n",
    "\n",
    "for col in categorical_columns:\n",
    "    le = LabelEncoder()\n",
    "    data[col] = le.fit_transform(data[col])\n",
    "    label_encoders[col] = le # Armazenar o encoder"
   ]
  },
  {
   "cell_type": "markdown",
   "metadata": {},
   "source": [
    "**OBS:** \n",
    "- `Machine_ID`: Identificação de máquinas (ex.: ['M1', 'M2', 'M3']).\n",
    "- `Assembly_Line_No`: Número da linha de montagem (ex.: ['Linha A', 'Linha B'])."
   ]
  },
  {
   "cell_type": "markdown",
   "metadata": {},
   "source": [
    "### Separando variáveis\n",
    "- `data.drop`: Remove as colunas `Date` e `Downtime` (não usadas como entrada no modelo) para formar as variáveis independentes (X).\n",
    "- `y = data['Downtime']`: Define a variável dependente (alvo) como `Downtime`."
   ]
  },
  {
   "cell_type": "code",
   "execution_count": 6,
   "metadata": {},
   "outputs": [],
   "source": [
    "X = data.drop(columns=['Date', 'Downtime'])\n",
    "y = data['Downtime']"
   ]
  },
  {
   "cell_type": "markdown",
   "metadata": {},
   "source": [
    "### Escalonando os dados"
   ]
  },
  {
   "cell_type": "markdown",
   "metadata": {},
   "source": [
    "Escalar os dados significa transformar os valores numéricos para que estejam em uma mesma escala. "
   ]
  },
  {
   "cell_type": "markdown",
   "metadata": {},
   "source": [
    "**Por que escalar?**\n",
    "- Isso é feito para evitar que variáveis com valores maiores influenciem desproporcionalmente o modelo.\n",
    "- Muitos algoritmos de aprendizado de máquina, como **Regressão Logística**, **Redes Neurais** e **SVM**, dependem de dados escalonados para alcançar um desempenho ideal.\n",
    "- Variáveis com valores grandes podem dominar outras na otimização dos modelos."
   ]
  },
  {
   "cell_type": "markdown",
   "metadata": {},
   "source": [
    "#### Transformando os dados com `fit_transform()`"
   ]
  },
  {
   "cell_type": "markdown",
   "metadata": {},
   "source": [
    "**Passo 1: `scaler.fit_transform(X)`**\n",
    "\n",
    "O método fit_transform realiza dois processos:\n",
    "\n",
    "- `fit(X)`:\n",
    "    - Calcula a média (𝜇) e o desvio padrão (σ) de cada coluna no conjunto de dados X.\n",
    "    - Esses valores são usados para padronizar os dados.\n",
    "- `transform(X)`:\n",
    "    - Aplica a fórmula da padronização em cada valor das colunas.\n",
    "    - O resultado é um novo conjunto de dados escalado.\n",
    "\n",
    "**Passo 2: Wrapping com pd.DataFrame**\n",
    "\n",
    "`pd.DataFrame(..., columns=X.columns)`\n",
    "- Depois da transformação, o resultado do `fit_transform` é um array NumPy.\n",
    "- Para manter a estrutura do DataFrame original (incluindo os nomes das colunas), o código reconstrói um DataFrame com:\n",
    "    - Os dados escalados (obtidos pelo `fit_transform`).\n",
    "    - Os nomes das colunas originais (`columns=X.columns`)."
   ]
  },
  {
   "cell_type": "code",
   "execution_count": 7,
   "metadata": {},
   "outputs": [],
   "source": [
    "scaler = StandardScaler() # Instanciando scaler. Os dados são padronizados p/ uma distribuição com média 0 e desvio padrão 1\n",
    "X = pd.DataFrame(scaler.fit_transform(X), columns=X.columns) # pd.DataFrame converte os dados escalados de volta para um DataFrame, preservando os nomes das colunas"
   ]
  },
  {
   "cell_type": "markdown",
   "metadata": {},
   "source": [
    "Ao final desse processo, `X` passa a conter as mesmas colunas do conjunto de dados original, mas agora os valores:\n",
    "- Estão centrados em torno de 0.\n",
    "- Têm desvio padrão igual a 1.\n",
    "\n",
    "Isso garante que todas as variáveis numéricas tenham a mesma escala, o que evita que alguma coluna com valores muito grandes ou muito pequenos influencie desproporcionalmente o modelo.\n",
    "\n",
    "### **Exemplo prático**\n",
    "Se `X` antes da transformação fosse:\n",
    "\n",
    "| Feature1 | Feature2 |\n",
    "|----------|----------|\n",
    "| 10       | 1000     |\n",
    "| 20       | 1500     |\n",
    "| 30       | 2000     |\n",
    "\n",
    "Após a padronização, ele poderia se parecer com:\n",
    "\n",
    "| Feature1   | Feature2   |\n",
    "|------------|------------|\n",
    "| -1.224745  | -1.224745  |\n",
    "|  0.000000  |  0.000000  |\n",
    "|  1.224745  |  1.224745  |\n",
    "\n",
    "Aqui:\n",
    "- `Feature1` e `Feature2` foram ajustadas para a mesma escala.\n",
    "- Isso melhora a performance de modelos que dependem de escalas semelhantes para diferentes variáveis."
   ]
  },
  {
   "cell_type": "markdown",
   "metadata": {},
   "source": [
    "## Treinamento\n",
    "----"
   ]
  },
  {
   "cell_type": "markdown",
   "metadata": {},
   "source": [
    "### Divisão treino-teste"
   ]
  },
  {
   "cell_type": "markdown",
   "metadata": {},
   "source": [
    "\n",
    "- `train_test_split`: Divide os dados em conjuntos de treino (80%) e teste (20%).\n",
    "- `random_state=56`: Garante resultados reproduzíveis."
   ]
  },
  {
   "cell_type": "code",
   "execution_count": 8,
   "metadata": {},
   "outputs": [],
   "source": [
    "X_train, X_test, y_train, y_test = train_test_split(X, y, test_size=0.2, random_state=56)"
   ]
  },
  {
   "cell_type": "markdown",
   "metadata": {},
   "source": [
    "### Treinamento do modelo"
   ]
  },
  {
   "cell_type": "markdown",
   "metadata": {},
   "source": [
    "- `RandomForestClassifier`: Cria um modelo de floresta aleatória.\n",
    "- `n_estimators=100`: Usa 100 árvores de decisão.\n",
    "- `fit`: Ajusta o modelo aos dados de treino."
   ]
  },
  {
   "cell_type": "code",
   "execution_count": 9,
   "metadata": {},
   "outputs": [
    {
     "data": {
      "text/html": [
       "<style>#sk-container-id-1 {\n",
       "  /* Definition of color scheme common for light and dark mode */\n",
       "  --sklearn-color-text: black;\n",
       "  --sklearn-color-line: gray;\n",
       "  /* Definition of color scheme for unfitted estimators */\n",
       "  --sklearn-color-unfitted-level-0: #fff5e6;\n",
       "  --sklearn-color-unfitted-level-1: #f6e4d2;\n",
       "  --sklearn-color-unfitted-level-2: #ffe0b3;\n",
       "  --sklearn-color-unfitted-level-3: chocolate;\n",
       "  /* Definition of color scheme for fitted estimators */\n",
       "  --sklearn-color-fitted-level-0: #f0f8ff;\n",
       "  --sklearn-color-fitted-level-1: #d4ebff;\n",
       "  --sklearn-color-fitted-level-2: #b3dbfd;\n",
       "  --sklearn-color-fitted-level-3: cornflowerblue;\n",
       "\n",
       "  /* Specific color for light theme */\n",
       "  --sklearn-color-text-on-default-background: var(--sg-text-color, var(--theme-code-foreground, var(--jp-content-font-color1, black)));\n",
       "  --sklearn-color-background: var(--sg-background-color, var(--theme-background, var(--jp-layout-color0, white)));\n",
       "  --sklearn-color-border-box: var(--sg-text-color, var(--theme-code-foreground, var(--jp-content-font-color1, black)));\n",
       "  --sklearn-color-icon: #696969;\n",
       "\n",
       "  @media (prefers-color-scheme: dark) {\n",
       "    /* Redefinition of color scheme for dark theme */\n",
       "    --sklearn-color-text-on-default-background: var(--sg-text-color, var(--theme-code-foreground, var(--jp-content-font-color1, white)));\n",
       "    --sklearn-color-background: var(--sg-background-color, var(--theme-background, var(--jp-layout-color0, #111)));\n",
       "    --sklearn-color-border-box: var(--sg-text-color, var(--theme-code-foreground, var(--jp-content-font-color1, white)));\n",
       "    --sklearn-color-icon: #878787;\n",
       "  }\n",
       "}\n",
       "\n",
       "#sk-container-id-1 {\n",
       "  color: var(--sklearn-color-text);\n",
       "}\n",
       "\n",
       "#sk-container-id-1 pre {\n",
       "  padding: 0;\n",
       "}\n",
       "\n",
       "#sk-container-id-1 input.sk-hidden--visually {\n",
       "  border: 0;\n",
       "  clip: rect(1px 1px 1px 1px);\n",
       "  clip: rect(1px, 1px, 1px, 1px);\n",
       "  height: 1px;\n",
       "  margin: -1px;\n",
       "  overflow: hidden;\n",
       "  padding: 0;\n",
       "  position: absolute;\n",
       "  width: 1px;\n",
       "}\n",
       "\n",
       "#sk-container-id-1 div.sk-dashed-wrapped {\n",
       "  border: 1px dashed var(--sklearn-color-line);\n",
       "  margin: 0 0.4em 0.5em 0.4em;\n",
       "  box-sizing: border-box;\n",
       "  padding-bottom: 0.4em;\n",
       "  background-color: var(--sklearn-color-background);\n",
       "}\n",
       "\n",
       "#sk-container-id-1 div.sk-container {\n",
       "  /* jupyter's `normalize.less` sets `[hidden] { display: none; }`\n",
       "     but bootstrap.min.css set `[hidden] { display: none !important; }`\n",
       "     so we also need the `!important` here to be able to override the\n",
       "     default hidden behavior on the sphinx rendered scikit-learn.org.\n",
       "     See: https://github.com/scikit-learn/scikit-learn/issues/21755 */\n",
       "  display: inline-block !important;\n",
       "  position: relative;\n",
       "}\n",
       "\n",
       "#sk-container-id-1 div.sk-text-repr-fallback {\n",
       "  display: none;\n",
       "}\n",
       "\n",
       "div.sk-parallel-item,\n",
       "div.sk-serial,\n",
       "div.sk-item {\n",
       "  /* draw centered vertical line to link estimators */\n",
       "  background-image: linear-gradient(var(--sklearn-color-text-on-default-background), var(--sklearn-color-text-on-default-background));\n",
       "  background-size: 2px 100%;\n",
       "  background-repeat: no-repeat;\n",
       "  background-position: center center;\n",
       "}\n",
       "\n",
       "/* Parallel-specific style estimator block */\n",
       "\n",
       "#sk-container-id-1 div.sk-parallel-item::after {\n",
       "  content: \"\";\n",
       "  width: 100%;\n",
       "  border-bottom: 2px solid var(--sklearn-color-text-on-default-background);\n",
       "  flex-grow: 1;\n",
       "}\n",
       "\n",
       "#sk-container-id-1 div.sk-parallel {\n",
       "  display: flex;\n",
       "  align-items: stretch;\n",
       "  justify-content: center;\n",
       "  background-color: var(--sklearn-color-background);\n",
       "  position: relative;\n",
       "}\n",
       "\n",
       "#sk-container-id-1 div.sk-parallel-item {\n",
       "  display: flex;\n",
       "  flex-direction: column;\n",
       "}\n",
       "\n",
       "#sk-container-id-1 div.sk-parallel-item:first-child::after {\n",
       "  align-self: flex-end;\n",
       "  width: 50%;\n",
       "}\n",
       "\n",
       "#sk-container-id-1 div.sk-parallel-item:last-child::after {\n",
       "  align-self: flex-start;\n",
       "  width: 50%;\n",
       "}\n",
       "\n",
       "#sk-container-id-1 div.sk-parallel-item:only-child::after {\n",
       "  width: 0;\n",
       "}\n",
       "\n",
       "/* Serial-specific style estimator block */\n",
       "\n",
       "#sk-container-id-1 div.sk-serial {\n",
       "  display: flex;\n",
       "  flex-direction: column;\n",
       "  align-items: center;\n",
       "  background-color: var(--sklearn-color-background);\n",
       "  padding-right: 1em;\n",
       "  padding-left: 1em;\n",
       "}\n",
       "\n",
       "\n",
       "/* Toggleable style: style used for estimator/Pipeline/ColumnTransformer box that is\n",
       "clickable and can be expanded/collapsed.\n",
       "- Pipeline and ColumnTransformer use this feature and define the default style\n",
       "- Estimators will overwrite some part of the style using the `sk-estimator` class\n",
       "*/\n",
       "\n",
       "/* Pipeline and ColumnTransformer style (default) */\n",
       "\n",
       "#sk-container-id-1 div.sk-toggleable {\n",
       "  /* Default theme specific background. It is overwritten whether we have a\n",
       "  specific estimator or a Pipeline/ColumnTransformer */\n",
       "  background-color: var(--sklearn-color-background);\n",
       "}\n",
       "\n",
       "/* Toggleable label */\n",
       "#sk-container-id-1 label.sk-toggleable__label {\n",
       "  cursor: pointer;\n",
       "  display: block;\n",
       "  width: 100%;\n",
       "  margin-bottom: 0;\n",
       "  padding: 0.5em;\n",
       "  box-sizing: border-box;\n",
       "  text-align: center;\n",
       "}\n",
       "\n",
       "#sk-container-id-1 label.sk-toggleable__label-arrow:before {\n",
       "  /* Arrow on the left of the label */\n",
       "  content: \"▸\";\n",
       "  float: left;\n",
       "  margin-right: 0.25em;\n",
       "  color: var(--sklearn-color-icon);\n",
       "}\n",
       "\n",
       "#sk-container-id-1 label.sk-toggleable__label-arrow:hover:before {\n",
       "  color: var(--sklearn-color-text);\n",
       "}\n",
       "\n",
       "/* Toggleable content - dropdown */\n",
       "\n",
       "#sk-container-id-1 div.sk-toggleable__content {\n",
       "  max-height: 0;\n",
       "  max-width: 0;\n",
       "  overflow: hidden;\n",
       "  text-align: left;\n",
       "  /* unfitted */\n",
       "  background-color: var(--sklearn-color-unfitted-level-0);\n",
       "}\n",
       "\n",
       "#sk-container-id-1 div.sk-toggleable__content.fitted {\n",
       "  /* fitted */\n",
       "  background-color: var(--sklearn-color-fitted-level-0);\n",
       "}\n",
       "\n",
       "#sk-container-id-1 div.sk-toggleable__content pre {\n",
       "  margin: 0.2em;\n",
       "  border-radius: 0.25em;\n",
       "  color: var(--sklearn-color-text);\n",
       "  /* unfitted */\n",
       "  background-color: var(--sklearn-color-unfitted-level-0);\n",
       "}\n",
       "\n",
       "#sk-container-id-1 div.sk-toggleable__content.fitted pre {\n",
       "  /* unfitted */\n",
       "  background-color: var(--sklearn-color-fitted-level-0);\n",
       "}\n",
       "\n",
       "#sk-container-id-1 input.sk-toggleable__control:checked~div.sk-toggleable__content {\n",
       "  /* Expand drop-down */\n",
       "  max-height: 200px;\n",
       "  max-width: 100%;\n",
       "  overflow: auto;\n",
       "}\n",
       "\n",
       "#sk-container-id-1 input.sk-toggleable__control:checked~label.sk-toggleable__label-arrow:before {\n",
       "  content: \"▾\";\n",
       "}\n",
       "\n",
       "/* Pipeline/ColumnTransformer-specific style */\n",
       "\n",
       "#sk-container-id-1 div.sk-label input.sk-toggleable__control:checked~label.sk-toggleable__label {\n",
       "  color: var(--sklearn-color-text);\n",
       "  background-color: var(--sklearn-color-unfitted-level-2);\n",
       "}\n",
       "\n",
       "#sk-container-id-1 div.sk-label.fitted input.sk-toggleable__control:checked~label.sk-toggleable__label {\n",
       "  background-color: var(--sklearn-color-fitted-level-2);\n",
       "}\n",
       "\n",
       "/* Estimator-specific style */\n",
       "\n",
       "/* Colorize estimator box */\n",
       "#sk-container-id-1 div.sk-estimator input.sk-toggleable__control:checked~label.sk-toggleable__label {\n",
       "  /* unfitted */\n",
       "  background-color: var(--sklearn-color-unfitted-level-2);\n",
       "}\n",
       "\n",
       "#sk-container-id-1 div.sk-estimator.fitted input.sk-toggleable__control:checked~label.sk-toggleable__label {\n",
       "  /* fitted */\n",
       "  background-color: var(--sklearn-color-fitted-level-2);\n",
       "}\n",
       "\n",
       "#sk-container-id-1 div.sk-label label.sk-toggleable__label,\n",
       "#sk-container-id-1 div.sk-label label {\n",
       "  /* The background is the default theme color */\n",
       "  color: var(--sklearn-color-text-on-default-background);\n",
       "}\n",
       "\n",
       "/* On hover, darken the color of the background */\n",
       "#sk-container-id-1 div.sk-label:hover label.sk-toggleable__label {\n",
       "  color: var(--sklearn-color-text);\n",
       "  background-color: var(--sklearn-color-unfitted-level-2);\n",
       "}\n",
       "\n",
       "/* Label box, darken color on hover, fitted */\n",
       "#sk-container-id-1 div.sk-label.fitted:hover label.sk-toggleable__label.fitted {\n",
       "  color: var(--sklearn-color-text);\n",
       "  background-color: var(--sklearn-color-fitted-level-2);\n",
       "}\n",
       "\n",
       "/* Estimator label */\n",
       "\n",
       "#sk-container-id-1 div.sk-label label {\n",
       "  font-family: monospace;\n",
       "  font-weight: bold;\n",
       "  display: inline-block;\n",
       "  line-height: 1.2em;\n",
       "}\n",
       "\n",
       "#sk-container-id-1 div.sk-label-container {\n",
       "  text-align: center;\n",
       "}\n",
       "\n",
       "/* Estimator-specific */\n",
       "#sk-container-id-1 div.sk-estimator {\n",
       "  font-family: monospace;\n",
       "  border: 1px dotted var(--sklearn-color-border-box);\n",
       "  border-radius: 0.25em;\n",
       "  box-sizing: border-box;\n",
       "  margin-bottom: 0.5em;\n",
       "  /* unfitted */\n",
       "  background-color: var(--sklearn-color-unfitted-level-0);\n",
       "}\n",
       "\n",
       "#sk-container-id-1 div.sk-estimator.fitted {\n",
       "  /* fitted */\n",
       "  background-color: var(--sklearn-color-fitted-level-0);\n",
       "}\n",
       "\n",
       "/* on hover */\n",
       "#sk-container-id-1 div.sk-estimator:hover {\n",
       "  /* unfitted */\n",
       "  background-color: var(--sklearn-color-unfitted-level-2);\n",
       "}\n",
       "\n",
       "#sk-container-id-1 div.sk-estimator.fitted:hover {\n",
       "  /* fitted */\n",
       "  background-color: var(--sklearn-color-fitted-level-2);\n",
       "}\n",
       "\n",
       "/* Specification for estimator info (e.g. \"i\" and \"?\") */\n",
       "\n",
       "/* Common style for \"i\" and \"?\" */\n",
       "\n",
       ".sk-estimator-doc-link,\n",
       "a:link.sk-estimator-doc-link,\n",
       "a:visited.sk-estimator-doc-link {\n",
       "  float: right;\n",
       "  font-size: smaller;\n",
       "  line-height: 1em;\n",
       "  font-family: monospace;\n",
       "  background-color: var(--sklearn-color-background);\n",
       "  border-radius: 1em;\n",
       "  height: 1em;\n",
       "  width: 1em;\n",
       "  text-decoration: none !important;\n",
       "  margin-left: 1ex;\n",
       "  /* unfitted */\n",
       "  border: var(--sklearn-color-unfitted-level-1) 1pt solid;\n",
       "  color: var(--sklearn-color-unfitted-level-1);\n",
       "}\n",
       "\n",
       ".sk-estimator-doc-link.fitted,\n",
       "a:link.sk-estimator-doc-link.fitted,\n",
       "a:visited.sk-estimator-doc-link.fitted {\n",
       "  /* fitted */\n",
       "  border: var(--sklearn-color-fitted-level-1) 1pt solid;\n",
       "  color: var(--sklearn-color-fitted-level-1);\n",
       "}\n",
       "\n",
       "/* On hover */\n",
       "div.sk-estimator:hover .sk-estimator-doc-link:hover,\n",
       ".sk-estimator-doc-link:hover,\n",
       "div.sk-label-container:hover .sk-estimator-doc-link:hover,\n",
       ".sk-estimator-doc-link:hover {\n",
       "  /* unfitted */\n",
       "  background-color: var(--sklearn-color-unfitted-level-3);\n",
       "  color: var(--sklearn-color-background);\n",
       "  text-decoration: none;\n",
       "}\n",
       "\n",
       "div.sk-estimator.fitted:hover .sk-estimator-doc-link.fitted:hover,\n",
       ".sk-estimator-doc-link.fitted:hover,\n",
       "div.sk-label-container:hover .sk-estimator-doc-link.fitted:hover,\n",
       ".sk-estimator-doc-link.fitted:hover {\n",
       "  /* fitted */\n",
       "  background-color: var(--sklearn-color-fitted-level-3);\n",
       "  color: var(--sklearn-color-background);\n",
       "  text-decoration: none;\n",
       "}\n",
       "\n",
       "/* Span, style for the box shown on hovering the info icon */\n",
       ".sk-estimator-doc-link span {\n",
       "  display: none;\n",
       "  z-index: 9999;\n",
       "  position: relative;\n",
       "  font-weight: normal;\n",
       "  right: .2ex;\n",
       "  padding: .5ex;\n",
       "  margin: .5ex;\n",
       "  width: min-content;\n",
       "  min-width: 20ex;\n",
       "  max-width: 50ex;\n",
       "  color: var(--sklearn-color-text);\n",
       "  box-shadow: 2pt 2pt 4pt #999;\n",
       "  /* unfitted */\n",
       "  background: var(--sklearn-color-unfitted-level-0);\n",
       "  border: .5pt solid var(--sklearn-color-unfitted-level-3);\n",
       "}\n",
       "\n",
       ".sk-estimator-doc-link.fitted span {\n",
       "  /* fitted */\n",
       "  background: var(--sklearn-color-fitted-level-0);\n",
       "  border: var(--sklearn-color-fitted-level-3);\n",
       "}\n",
       "\n",
       ".sk-estimator-doc-link:hover span {\n",
       "  display: block;\n",
       "}\n",
       "\n",
       "/* \"?\"-specific style due to the `<a>` HTML tag */\n",
       "\n",
       "#sk-container-id-1 a.estimator_doc_link {\n",
       "  float: right;\n",
       "  font-size: 1rem;\n",
       "  line-height: 1em;\n",
       "  font-family: monospace;\n",
       "  background-color: var(--sklearn-color-background);\n",
       "  border-radius: 1rem;\n",
       "  height: 1rem;\n",
       "  width: 1rem;\n",
       "  text-decoration: none;\n",
       "  /* unfitted */\n",
       "  color: var(--sklearn-color-unfitted-level-1);\n",
       "  border: var(--sklearn-color-unfitted-level-1) 1pt solid;\n",
       "}\n",
       "\n",
       "#sk-container-id-1 a.estimator_doc_link.fitted {\n",
       "  /* fitted */\n",
       "  border: var(--sklearn-color-fitted-level-1) 1pt solid;\n",
       "  color: var(--sklearn-color-fitted-level-1);\n",
       "}\n",
       "\n",
       "/* On hover */\n",
       "#sk-container-id-1 a.estimator_doc_link:hover {\n",
       "  /* unfitted */\n",
       "  background-color: var(--sklearn-color-unfitted-level-3);\n",
       "  color: var(--sklearn-color-background);\n",
       "  text-decoration: none;\n",
       "}\n",
       "\n",
       "#sk-container-id-1 a.estimator_doc_link.fitted:hover {\n",
       "  /* fitted */\n",
       "  background-color: var(--sklearn-color-fitted-level-3);\n",
       "}\n",
       "</style><div id=\"sk-container-id-1\" class=\"sk-top-container\"><div class=\"sk-text-repr-fallback\"><pre>RandomForestClassifier(random_state=56)</pre><b>In a Jupyter environment, please rerun this cell to show the HTML representation or trust the notebook. <br />On GitHub, the HTML representation is unable to render, please try loading this page with nbviewer.org.</b></div><div class=\"sk-container\" hidden><div class=\"sk-item\"><div class=\"sk-estimator fitted sk-toggleable\"><input class=\"sk-toggleable__control sk-hidden--visually\" id=\"sk-estimator-id-1\" type=\"checkbox\" checked><label for=\"sk-estimator-id-1\" class=\"sk-toggleable__label fitted sk-toggleable__label-arrow fitted\">&nbsp;&nbsp;RandomForestClassifier<a class=\"sk-estimator-doc-link fitted\" rel=\"noreferrer\" target=\"_blank\" href=\"https://scikit-learn.org/1.5/modules/generated/sklearn.ensemble.RandomForestClassifier.html\">?<span>Documentation for RandomForestClassifier</span></a><span class=\"sk-estimator-doc-link fitted\">i<span>Fitted</span></span></label><div class=\"sk-toggleable__content fitted\"><pre>RandomForestClassifier(random_state=56)</pre></div> </div></div></div></div>"
      ],
      "text/plain": [
       "RandomForestClassifier(random_state=56)"
      ]
     },
     "execution_count": 9,
     "metadata": {},
     "output_type": "execute_result"
    }
   ],
   "source": [
    "rf_model = RandomForestClassifier(random_state=56, n_estimators=100)\n",
    "rf_model.fit(X_train, y_train)"
   ]
  },
  {
   "cell_type": "markdown",
   "metadata": {},
   "source": [
    "### Predição\n"
   ]
  },
  {
   "cell_type": "markdown",
   "metadata": {},
   "source": [
    "O método `.predict()` é chamado no modelo treinado (`rf_model`). \n",
    "\n",
    "Esse método aceita dados no mesmo formato das features do treinamento (que no caso, já foram escalonados com o `StandardScaler` anteriormente), e faz previsões usando o conjunto de teste.\n",
    "\n",
    "Ele faz previsões para os dados de entrada fornecidos (`X_test`), que são as features do conjunto de teste.\n",
    "Retorna as previsões do modelo, ou seja, os valores de saída esperados para cada exemplo no conjunto de teste.\n",
    "\n",
    "O resultado, que é uma lista (ou array) com os rótulos previstos, é armazenado na variável `y_pred`."
   ]
  },
  {
   "cell_type": "code",
   "execution_count": 10,
   "metadata": {},
   "outputs": [],
   "source": [
    "y_pred = rf_model.predict(X_test)"
   ]
  },
  {
   "cell_type": "markdown",
   "metadata": {},
   "source": [
    "### Avaliação"
   ]
  },
  {
   "cell_type": "markdown",
   "metadata": {},
   "source": [
    "- `classification_report`: Exibe métricas como precisão, recall e F1-score.\n",
    "- `confusion_matrix`: Mostra a matriz de confusão (verdadeiros e falsos positivos/negativos).\n",
    "- `accuracy_score`: Calcula a acurácia do modelo."
   ]
  },
  {
   "cell_type": "code",
   "execution_count": 11,
   "metadata": {},
   "outputs": [
    {
     "name": "stdout",
     "output_type": "stream",
     "text": [
      "Relatório de Classificação:\n",
      "                     precision    recall  f1-score   support\n",
      "\n",
      "   Machine_Failure       0.99      0.98      0.99       251\n",
      "No_Machine_Failure       0.98      0.99      0.99       249\n",
      "\n",
      "          accuracy                           0.99       500\n",
      "         macro avg       0.99      0.99      0.99       500\n",
      "      weighted avg       0.99      0.99      0.99       500\n",
      "\n",
      "Matriz de Confusão:\n",
      " [[247   4]\n",
      " [  2 247]]\n",
      "Acurácia: 0.988\n"
     ]
    }
   ],
   "source": [
    "print(\"Relatório de Classificação:\\n\", classification_report(y_test, y_pred))\n",
    "print(\"Matriz de Confusão:\\n\", confusion_matrix(y_test, y_pred))\n",
    "print(\"Acurácia:\", accuracy_score(y_test, y_pred))"
   ]
  },
  {
   "cell_type": "markdown",
   "metadata": {},
   "source": [
    "A matriz de confusão foi escolhida porque:\n",
    "\n",
    "- Oferece insights claros e interpretáveis.\n",
    "- Identifica padrões de erro.\n",
    "- Ajuda a diagnosticar problemas em classificadores, especialmente em casos desbalanceados."
   ]
  },
  {
   "cell_type": "markdown",
   "metadata": {},
   "source": [
    "## Feature Importances\n",
    "---"
   ]
  },
  {
   "cell_type": "markdown",
   "metadata": {},
   "source": [
    "- `feature_importances`: Importância relativa de cada recurso no modelo.\n",
    "- `np.argsort`: Ordena os índices das importâncias em ordem decrescente.\n",
    "- `sns.barplot`: Cria um gráfico de barras para exibir a importância."
   ]
  },
  {
   "cell_type": "code",
   "execution_count": 12,
   "metadata": {},
   "outputs": [
    {
     "data": {
      "image/png": "[encoded data removed]",
      "text/plain": [
       "<Figure size 1000x600 with 1 Axes>"
      ]
     },
     "metadata": {},
     "output_type": "display_data"
    }
   ],
   "source": [
    "feature_importances = rf_model.feature_importances_\n",
    "sorted_indices = np.argsort(feature_importances)[::-1]\n",
    "plt.figure(figsize=(10, 6))\n",
    "sns.barplot(x=feature_importances[sorted_indices], y=X.columns[sorted_indices])\n",
    "plt.title(\"Feature Importance\")\n",
    "plt.show()"
   ]
  },
  {
   "cell_type": "markdown",
   "metadata": {},
   "source": [
    "## Modelagem por máquina\n",
    "---\n"
   ]
  },
  {
   "cell_type": "markdown",
   "metadata": {},
   "source": [
    "O código repete o processo de modelagem e avaliação, mas separadamente para cada máquina (`Machine_ID`). \n",
    "\n",
    "Isso permite com que o comportamento de cada máquina seja analisado individualmente."
   ]
  },
  {
   "cell_type": "code",
   "execution_count": 13,
   "metadata": {},
   "outputs": [
    {
     "name": "stdout",
     "output_type": "stream",
     "text": [
      "Modelagem para o ID da Máquina: 0\n",
      "Relatório de Classificação:\n",
      "                     precision    recall  f1-score   support\n",
      "\n",
      "   Machine_Failure       0.97      0.97      0.97        97\n",
      "No_Machine_Failure       0.96      0.96      0.96        78\n",
      "\n",
      "          accuracy                           0.97       175\n",
      "         macro avg       0.97      0.97      0.97       175\n",
      "      weighted avg       0.97      0.97      0.97       175\n",
      "\n",
      "Matriz de Confusão:\n",
      " [[94  3]\n",
      " [ 3 75]]\n",
      "Acurácia: 0.9657142857142857\n",
      "Modelagem para o ID da Máquina: 2\n",
      "Relatório de Classificação:\n",
      "                     precision    recall  f1-score   support\n",
      "\n",
      "   Machine_Failure       0.99      0.93      0.96        81\n",
      "No_Machine_Failure       0.93      0.99      0.96        83\n",
      "\n",
      "          accuracy                           0.96       164\n",
      "         macro avg       0.96      0.96      0.96       164\n",
      "      weighted avg       0.96      0.96      0.96       164\n",
      "\n",
      "Matriz de Confusão:\n",
      " [[75  6]\n",
      " [ 1 82]]\n",
      "Acurácia: 0.9573170731707317\n",
      "Modelagem para o ID da Máquina: 1\n",
      "Relatório de Classificação:\n",
      "                     precision    recall  f1-score   support\n",
      "\n",
      "   Machine_Failure       0.96      0.95      0.96        83\n",
      "No_Machine_Failure       0.95      0.96      0.96        79\n",
      "\n",
      "          accuracy                           0.96       162\n",
      "         macro avg       0.96      0.96      0.96       162\n",
      "      weighted avg       0.96      0.96      0.96       162\n",
      "\n",
      "Matriz de Confusão:\n",
      " [[79  4]\n",
      " [ 3 76]]\n",
      "Acurácia: 0.9567901234567902\n"
     ]
    }
   ],
   "source": [
    "machines = data['Machine_ID'].unique()\n",
    "# Modelando cada máquina separadamente\n",
    "for machine in machines:\n",
    "    print(f\"Modelagem para o ID da Máquina: {machine}\")\n",
    "    machine_data = data[data['Machine_ID'] == machine]\n",
    "    X_machine = machine_data.drop(columns=['Date', 'Downtime'])\n",
    "    y_machine = machine_data['Downtime']\n",
    "    \n",
    "    # Escalar dados\n",
    "    X_machine = pd.DataFrame(scaler.fit_transform(X_machine), columns=X_machine.columns)\n",
    "\n",
    "    # Train-test split\n",
    "    X_train_m, X_test_m, y_train_m, y_test_m = train_test_split(X_machine, y_machine, test_size=0.2, random_state=42)\n",
    "\n",
    "    # Treinar e avaliar modelo\n",
    "    rf_model.fit(X_train_m, y_train_m)\n",
    "    y_pred_m = rf_model.predict(X_test_m)\n",
    "    print(\"Relatório de Classificação:\\n\", classification_report(y_test_m, y_pred_m))\n",
    "    print(\"Matriz de Confusão:\\n\", confusion_matrix(y_test_m, y_pred_m))\n",
    "    print(\"Acurácia:\", accuracy_score(y_test_m, y_pred_m))\n"
   ]
  }
 ],
 "metadata": {
  "kernelspec": {
   "display_name": "Python 3",
   "language": "python",
   "name": "python3"
  },
  "language_info": {
   "codemirror_mode": {
    "name": "ipython",
    "version": 3
   },
   "file_extension": ".py",
   "mimetype": "text/x-python",
   "name": "python",
   "nbconvert_exporter": "python",
   "pygments_lexer": "ipython3",
   "version": "3.11.4"
  }
 },
 "nbformat": 4,
 "nbformat_minor": 2
}
