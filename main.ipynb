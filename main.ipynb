{
 "cells": [
  {
   "cell_type": "markdown",
   "metadata": {},
   "source": [
    "## Predicting Industrial Machine Downtime [Level 3]"
   ]
  },
  {
   "cell_type": "markdown",
   "metadata": {},
   "source": [
    "### Comando para instalar todas as bibliotecas\n",
    "\n",
    "```pip install pandas numpy scikit-learn matplotlib seaborn```"
   ]
  },
  {
   "cell_type": "markdown",
   "metadata": {},
   "source": [
    "Link do desafio: \n",
    "https://app.datacamp.com/learn/competitions/industrial-machine-level-3"
   ]
  },
  {
   "cell_type": "code",
   "execution_count": 2,
   "metadata": {},
   "outputs": [],
   "source": [
    "import pandas as pd\n",
    "import numpy as np\n",
    "from sklearn.model_selection import train_test_split, cross_val_score\n",
    "from sklearn.ensemble import RandomForestClassifier\n",
    "from sklearn.preprocessing import StandardScaler, LabelEncoder\n",
    "from sklearn.metrics import classification_report, confusion_matrix, accuracy_score\n",
    "import matplotlib.pyplot as plt\n",
    "import seaborn as sns"
   ]
  },
  {
   "cell_type": "code",
   "execution_count": null,
   "metadata": {},
   "outputs": [
    {
     "name": "stdout",
     "output_type": "stream",
     "text": [
      "<class 'pandas.core.frame.DataFrame'>\n",
      "RangeIndex: 2500 entries, 0 to 2499\n",
      "Data columns (total 16 columns):\n",
      " #   Column                       Non-Null Count  Dtype  \n",
      "---  ------                       --------------  -----  \n",
      " 0   Date                         2500 non-null   object \n",
      " 1   Machine_ID                   2500 non-null   object \n",
      " 2   Assembly_Line_No             2500 non-null   object \n",
      " 3   Hydraulic_Pressure(bar)      2490 non-null   float64\n",
      " 4   Coolant_Pressure(bar)        2481 non-null   float64\n",
      " 5   Air_System_Pressure(bar)     2483 non-null   float64\n",
      " 6   Coolant_Temperature          2488 non-null   float64\n",
      " 7   Hydraulic_Oil_Temperature    2484 non-null   float64\n",
      " 8   Spindle_Bearing_Temperature  2493 non-null   float64\n",
      " 9   Spindle_Vibration            2489 non-null   float64\n",
      " 10  Tool_Vibration               2489 non-null   float64\n",
      " 11  Spindle_Speed(RPM)           2494 non-null   float64\n",
      " 12  Voltage(volts)               2494 non-null   float64\n",
      " 13  Torque(Nm)                   2479 non-null   float64\n",
      " 14  Cutting(kN)                  2493 non-null   float64\n",
      " 15  Downtime                     2500 non-null   object \n",
      "dtypes: float64(12), object(4)\n",
      "memory usage: 312.6+ KB\n",
      "None\n",
      "         Date            Machine_ID Assembly_Line_No  Hydraulic_Pressure(bar)  \\\n",
      "0  31-12-2021  Makino-L1-Unit1-2013     Shopfloor-L1                    71.04   \n",
      "1  31-12-2021  Makino-L1-Unit1-2013     Shopfloor-L1                   125.33   \n",
      "2  31-12-2021  Makino-L3-Unit1-2015     Shopfloor-L3                    71.12   \n",
      "3  31-05-2022  Makino-L2-Unit1-2015     Shopfloor-L2                   139.34   \n",
      "4  31-03-2022  Makino-L1-Unit1-2013     Shopfloor-L1                    60.51   \n",
      "\n",
      "   Coolant_Pressure(bar)  Air_System_Pressure(bar)  Coolant_Temperature  \\\n",
      "0               6.933725                  6.284965                 25.6   \n",
      "1               4.936892                  6.196733                 35.3   \n",
      "2               6.839413                  6.655448                 13.1   \n",
      "3               4.574382                  6.560394                 24.4   \n",
      "4               6.893182                  6.141238                  4.1   \n",
      "\n",
      "   Hydraulic_Oil_Temperature  Spindle_Bearing_Temperature  Spindle_Vibration  \\\n",
      "0                       46.0                         33.4              1.291   \n",
      "1                       47.4                         34.6              1.382   \n",
      "2                       40.7                         33.0              1.319   \n",
      "3                       44.2                         40.6              0.618   \n",
      "4                       47.3                         31.4              0.983   \n",
      "\n",
      "   Tool_Vibration  Spindle_Speed(RPM)  Voltage(volts)  Torque(Nm)  \\\n",
      "0          26.492             25892.0           335.0   24.055326   \n",
      "1          25.274             19856.0           368.0   14.202890   \n",
      "2          30.608             19851.0           325.0   24.049267   \n",
      "3          30.791             18461.0           360.0   25.860029   \n",
      "4          25.516             26526.0           354.0   25.515874   \n",
      "\n",
      "   Cutting(kN)         Downtime  \n",
      "0         3.58  Machine_Failure  \n",
      "1         2.68  Machine_Failure  \n",
      "2         3.55  Machine_Failure  \n",
      "3         3.55  Machine_Failure  \n",
      "4         3.55  Machine_Failure  \n"
     ]
    }
   ],
   "source": [
    "data = pd.read_csv('data/machine_downtime.csv')\n",
    "print(data.info()) # Mostra informações gerais sobre o DataFrame, como número de linhas, colunas, tipos de dados e valores nulos\n",
    "print(data.head()) # Exibe as 5 primeiras linhas do DataFrame"
   ]
  },
  {
   "cell_type": "markdown",
   "metadata": {},
   "source": [
    "## Pré-processamento\n",
    "Verificar valores ausentes"
   ]
  },
  {
   "cell_type": "code",
   "execution_count": 4,
   "metadata": {},
   "outputs": [
    {
     "name": "stdout",
     "output_type": "stream",
     "text": [
      "Missing values:\n",
      " Date                            0\n",
      "Machine_ID                      0\n",
      "Assembly_Line_No                0\n",
      "Hydraulic_Pressure(bar)        10\n",
      "Coolant_Pressure(bar)          19\n",
      "Air_System_Pressure(bar)       17\n",
      "Coolant_Temperature            12\n",
      "Hydraulic_Oil_Temperature      16\n",
      "Spindle_Bearing_Temperature     7\n",
      "Spindle_Vibration              11\n",
      "Tool_Vibration                 11\n",
      "Spindle_Speed(RPM)              6\n",
      "Voltage(volts)                  6\n",
      "Torque(Nm)                     21\n",
      "Cutting(kN)                     7\n",
      "Downtime                        0\n",
      "dtype: int64\n"
     ]
    }
   ],
   "source": [
    "print(\"Missing values:\\n\", data.isnull().sum())"
   ]
  }
 ],
 "metadata": {
  "kernelspec": {
   "display_name": "Python 3",
   "language": "python",
   "name": "python3"
  },
  "language_info": {
   "codemirror_mode": {
    "name": "ipython",
    "version": 3
   },
   "file_extension": ".py",
   "mimetype": "text/x-python",
   "name": "python",
   "nbconvert_exporter": "python",
   "pygments_lexer": "ipython3",
   "version": "3.11.4"
  }
 },
 "nbformat": 4,
 "nbformat_minor": 2
}
